{
 "cells": [
  {
   "cell_type": "markdown",
   "metadata": {},
   "source": [
    "# Filter -- 过滤器"
   ]
  },
  {
   "cell_type": "markdown",
   "metadata": {},
   "source": [
    "@Author： Jian Huang\n",
    "\n",
    "@E-mail: jian.huang@xtalpi.com\n",
    "\n",
    "@ REF\n",
    "\n",
    "\n",
    "</br>\n",
    "https://new.rosettacommons.org/docs/latest/scripting_documentation/RosettaScripts/Filters/Filters-RosettaScripts\n",
    "\n",
    "https://new.rosettacommons.org/docs/latest/scripting_documentation/RosettaScripts/Filters/filter_pages/SimpleMetricFilter\n",
    "\n",
    "\n",
    "## 1. Introduction\n",
    "\n",
    "</br>\n",
    "\n",
    "首先我们回顾一下，在前面的章节中，我们认识了SimpleMetrics。其本质是Rosetta新一代的数据分析和报告工具。在Protocol定义的某一个或某一些的Movers之前或之后，采用SimpleMetrics去计算当前pose的用户感兴趣的性质。\n",
    "\n",
    "在一个用户定义的Protocol中，如果我们需要就这些“计算分析的性质”进行构象的过滤筛选，留下那些满足设定条件的构象进行进一步优化，这种操作就需要使用Rosetta中的**Filter**模块了。基于这一目的，我们学过的simpleMetrics中所有的的计算量都可以被用来作为Filter，对应于simpleMetrics的Filter在rosetta中单独命名为**“SimpleMetricFilter”**。\n",
    "\n",
    "由于rosetta内置搜索算法的随机性，初始阶段可能经常会采样到并不是较好的构象。换言之，由初始movers引入的随机性将会产生一些不太优构象，而后续将很难产生可靠的模拟结果。为了加速模拟的过程和提高可靠性，有时候设置Filter滤掉一些采样，将初始阶段产生的不好的构象丢弃掉。这就是Rosetta中设置Filter的初衷。Filter可以通过对蛋白结构的一些可以被计算的性质的限制，从初始就丢弃掉明显不合理的采样结果。\n",
    "\n",
    "例如我们知道在ubiqutin的构象优化过程中，希望可以在进行repack和minimization的同时，保留原构象中保留的K11和E34的盐桥。如果在repack的时候该盐桥丢失，在minimization的过程中就不太可能重新连接起来，此时使用Filter非常合理和合适。而且，如果指定了Filter，在一些大体系的模拟的时候能够大大减少运行时间且减少不必要的计算；其次，一般模拟的最后一步都是再众多的构象中挑选合理的结果，设定Filter相当于提前过滤了一遍，减少不必要的输出。\n",
    "\n",
    "大多数filters都会进行某些结构上的设定的度量（角度、距离等）作为阈值条件，以决定Filters应该通过哪些构象、滤掉哪些构象。在设定盐桥的例子里面，我们可以设定两个残基之间的距离，保证既要能够保留下所有能够形成盐桥的构象，又要滤掉哪些不能形成盐桥的构象。\n",
    "\n",
    "***\n",
    "\n",
    "*思考*\n",
    "\n",
    "与其生成大量构象进行筛选，为何不从constraint出发直接添加限制，让能量函数有偏向性到用户所需要的构象？\n",
    "\n",
    "当然其实我们在之前的章节中介绍过constraint，所以如果我们在一开始就对构象中某些测量性质有要求，直接使用constraint、restraint会比Filter在搜索之后进行过滤的操作更为方便（相当于constraint在上游进行限制，而Filter是在暴力搜索构象后逐步筛选过滤）。这样看来，似乎Filter会比较低效。但往往设定采样的constraints和能量函数的有偏性质不那么好拿捏控制，所以至今Filter仍然是重要的保留模块。\n",
    "\n",
    "***\n",
    "\n"
   ]
  },
  {
   "cell_type": "markdown",
   "metadata": {},
   "source": [
    "## 2.Filters in Pyrosetta"
   ]
  },
  {
   "cell_type": "markdown",
   "metadata": {},
   "source": [
    "每一种Filter都可以以如下Rosetta Scripts(关于RS将在第九章进行详细介绍)的形式进行定义：\n",
    "\n",
    "```\n",
    "<FILTERS>\n",
    "\t<SomeFilterName name=\"&string\" confidence=\"(1 &Real)\" other_option=\"\"/>\n",
    "</FILTERS>\n",
    "```"
   ]
  },
  {
   "cell_type": "markdown",
   "metadata": {},
   "source": [
    "值得注意的是，Filter的定义中的confidence的选项，一般而言所有的Filter的confidence默认值均为“1”，这表示该Filter作为一个任务终止与否的逻辑门，符合条件继续任务，不符合条件终止任务。若设定confidence的值为“0”，此时的Filter的作用类似于SimpleMetrics，仅仅根据规则计算特定的测量值或性质，而不会终止任务。若设定confidence的值介于0~1之间，例如0.5，那么在构象搜索的1-confidence（1-0.5=0.5），即一半的时间里总是为“True”，继续进行任务。"
   ]
  },
  {
   "cell_type": "code",
   "execution_count": 1,
   "metadata": {},
   "outputs": [
    {
     "name": "stdout",
     "output_type": "stream",
     "text": [
      "PyRosetta-4 2020 [Rosetta PyRosetta4.Release.python36.ubuntu 2020.28+release.8ecab77aa50ac1301efe53641e07e09ac91fee3b 2020-07-07T16:41:06] retrieved from: http://www.pyrosetta.org\n",
      "(C) Copyright Rosetta Commons Member Institutions. Created in JHU by Sergey Lyskov and PyRosetta Team.\n",
      "\u001b[0mcore.init: \u001b[0mChecking for fconfig files in pwd and ./rosetta/flags\n",
      "\u001b[0mcore.init: \u001b[0mRosetta version: PyRosetta4.Release.python36.ubuntu r260 2020.28+release.8ecab77aa50 8ecab77aa50ac1301efe53641e07e09ac91fee3b http://www.pyrosetta.org 2020-07-07T16:41:06\n",
      "\u001b[0mcore.init: \u001b[0mcommand: PyRosetta -ex1 -ex2aro -database /home/huangjian/miniconda3/envs/biodesign/lib/python3.6/site-packages/pyrosetta-2020.28+release.8ecab77aa50-py3.6-linux-x86_64.egg/pyrosetta/database\n",
      "\u001b[0mbasic.random.init_random_generator: \u001b[0m'RNG device' seed mode, using '/dev/urandom', seed=-334482167 seed_offset=0 real_seed=-334482167\n",
      "\u001b[0mbasic.random.init_random_generator: \u001b[0mRandomGenerator:init: Normal mode, seed=-334482167 RG_type=mt19937\n"
     ]
    }
   ],
   "source": [
    "from pyrosetta.rosetta.protocols.rosetta_scripts import *\n",
    "from pyrosetta import *\n",
    "init()"
   ]
  },
  {
   "cell_type": "code",
   "execution_count": 2,
   "metadata": {},
   "outputs": [],
   "source": [
    "# 这里给出一个最基本的Filter定义\n",
    "# 使用原子间的距离作为筛选条件\n",
    "\n",
    "filter_example = \\\n",
    "\"\"\"\n",
    "<ROSETTASCRIPTS>\n",
    "        <SCOREFXNS>\n",
    "        </SCOREFXNS>\n",
    "        <RESIDUE_SELECTORS>\n",
    "        </RESIDUE_SELECTORS>\n",
    "        <TASKOPERATIONS>\n",
    "        </TASKOPERATIONS>\n",
    "        <FILTERS>\n",
    "                <AtomicDistance name=\"salt_bridge\" residue1=\"11A\" atomtype1=\"Nlys\" residue2=\"34A\" atomtype2=\"OOC\" distance=\"3.0\" />\n",
    "        </FILTERS>\n",
    "        <MOVERS>\n",
    "        </MOVERS>\n",
    "        <APPLY_TO_POSE>\n",
    "        </APPLY_TO_POSE>\n",
    "        <PROTOCOLS>\n",
    "                <Add filter=\"salt_bridge\" />\n",
    "        </PROTOCOLS>\n",
    "        <OUTPUT/>\n",
    "</ROSETTASCRIPTS>\n",
    "\"\"\""
   ]
  },
  {
   "cell_type": "code",
   "execution_count": 3,
   "metadata": {},
   "outputs": [
    {
     "name": "stdout",
     "output_type": "stream",
     "text": [
      "\u001b[0mprotocols.rosetta_scripts.RosettaScriptsParser: \u001b[0mGenerating XML Schema for rosetta_scripts...\n",
      "\u001b[0mprotocols.rosetta_scripts.RosettaScriptsParser: \u001b[0m...done\n",
      "\u001b[0mprotocols.rosetta_scripts.RosettaScriptsParser: \u001b[0mInitializing schema validator...\n",
      "\u001b[0mprotocols.rosetta_scripts.RosettaScriptsParser: \u001b[0m...done\n",
      "\u001b[0mprotocols.rosetta_scripts.RosettaScriptsParser: \u001b[0mValidating input script...\n",
      "\u001b[0mprotocols.rosetta_scripts.RosettaScriptsParser: \u001b[0m...done\n",
      "\u001b[0mprotocols.rosetta_scripts.RosettaScriptsParser: \u001b[0mParsed script:\n",
      "<ROSETTASCRIPTS>\n",
      "\t<SCOREFXNS/>\n",
      "\t<RESIDUE_SELECTORS/>\n",
      "\t<TASKOPERATIONS/>\n",
      "\t<FILTERS>\n",
      "\t\t<AtomicDistance atomtype1=\"Nlys\" atomtype2=\"OOC\" distance=\"3.0\" name=\"salt_bridge\" residue1=\"11A\" residue2=\"34A\"/>\n",
      "\t</FILTERS>\n",
      "\t<MOVERS/>\n",
      "\t<APPLY_TO_POSE/>\n",
      "\t<PROTOCOLS>\n",
      "\t\t<Add filter=\"salt_bridge\"/>\n",
      "\t</PROTOCOLS>\n",
      "\t<OUTPUT/>\n",
      "</ROSETTASCRIPTS>\n",
      "\u001b[0mcore.scoring.ScoreFunctionFactory: \u001b[0mSCOREFUNCTION: \u001b[32mref2015\u001b[0m\n",
      "\u001b[0mcore.scoring.etable: \u001b[0mStarting energy table calculation\n",
      "\u001b[0mcore.scoring.etable: \u001b[0msmooth_etable: changing atr/rep split to bottom of energy well\n",
      "\u001b[0mcore.scoring.etable: \u001b[0msmooth_etable: spline smoothing lj etables (maxdis = 6)\n",
      "\u001b[0mcore.scoring.etable: \u001b[0msmooth_etable: spline smoothing solvation etables (max_dis = 6)\n",
      "\u001b[0mcore.scoring.etable: \u001b[0mFinished calculating energy tables.\n",
      "\u001b[0mbasic.io.database: \u001b[0mDatabase file opened: scoring/score_functions/hbonds/ref2015_params/HBPoly1D.csv\n",
      "\u001b[0mbasic.io.database: \u001b[0mDatabase file opened: scoring/score_functions/hbonds/ref2015_params/HBFadeIntervals.csv\n",
      "\u001b[0mbasic.io.database: \u001b[0mDatabase file opened: scoring/score_functions/hbonds/ref2015_params/HBEval.csv\n",
      "\u001b[0mbasic.io.database: \u001b[0mDatabase file opened: scoring/score_functions/hbonds/ref2015_params/DonStrength.csv\n",
      "\u001b[0mbasic.io.database: \u001b[0mDatabase file opened: scoring/score_functions/hbonds/ref2015_params/AccStrength.csv\n",
      "\u001b[0mcore.chemical.GlobalResidueTypeSet: \u001b[0mFinished initializing fa_standard residue type set.  Created 981 residue types\n",
      "\u001b[0mcore.chemical.GlobalResidueTypeSet: \u001b[0mTotal time to initialize 0.859375 seconds.\n",
      "\u001b[0mbasic.io.database: \u001b[0mDatabase file opened: scoring/score_functions/rama/fd/all.ramaProb\n",
      "\u001b[0mbasic.io.database: \u001b[0mDatabase file opened: scoring/score_functions/rama/fd/prepro.ramaProb\n",
      "\u001b[0mbasic.io.database: \u001b[0mDatabase file opened: scoring/score_functions/omega/omega_ppdep.all.txt\n",
      "\u001b[0mbasic.io.database: \u001b[0mDatabase file opened: scoring/score_functions/omega/omega_ppdep.gly.txt\n",
      "\u001b[0mbasic.io.database: \u001b[0mDatabase file opened: scoring/score_functions/omega/omega_ppdep.pro.txt\n",
      "\u001b[0mbasic.io.database: \u001b[0mDatabase file opened: scoring/score_functions/omega/omega_ppdep.valile.txt\n",
      "\u001b[0mbasic.io.database: \u001b[0mDatabase file opened: scoring/score_functions/P_AA_pp/P_AA\n",
      "\u001b[0mbasic.io.database: \u001b[0mDatabase file opened: scoring/score_functions/P_AA_pp/P_AA_n\n",
      "\u001b[0mcore.scoring.P_AA: \u001b[0mshapovalov_lib::shap_p_aa_pp_smooth_level of 1( aka low_smooth ) got activated.\n",
      "\u001b[0mbasic.io.database: \u001b[0mDatabase file opened: scoring/score_functions/P_AA_pp/shapovalov/10deg/kappa131/a20.prop\n",
      "\u001b[0mcore.scoring.etable: \u001b[0mStarting energy table calculation\n",
      "\u001b[0mcore.scoring.etable: \u001b[0msmooth_etable: changing atr/rep split to bottom of energy well\n",
      "\u001b[0mcore.scoring.etable: \u001b[0msmooth_etable: spline smoothing lj etables (maxdis = 6)\n",
      "\u001b[0mcore.scoring.etable: \u001b[0msmooth_etable: spline smoothing solvation etables (max_dis = 6)\n",
      "\u001b[0mcore.scoring.etable: \u001b[0mFinished calculating energy tables.\n",
      "\u001b[0mbasic.io.database: \u001b[0mDatabase file opened: scoring/score_functions/PairEPotential/pdb_pair_stats_fine\n",
      "\u001b[0mbasic.io.database: \u001b[0mDatabase file opened: scoring/score_functions/InterchainPotential/interchain_env_log.txt\n",
      "\u001b[0mbasic.io.database: \u001b[0mDatabase file opened: scoring/score_functions/InterchainPotential/interchain_pair_log.txt\n",
      "\u001b[0mbasic.io.database: \u001b[0mDatabase file opened: scoring/score_functions/EnvPairPotential/env_log.txt\n",
      "\u001b[0mbasic.io.database: \u001b[0mDatabase file opened: scoring/score_functions/EnvPairPotential/cbeta_den.txt\n",
      "\u001b[0mbasic.io.database: \u001b[0mDatabase file opened: scoring/score_functions/EnvPairPotential/pair_log.txt\n",
      "\u001b[0mbasic.io.database: \u001b[0mDatabase file opened: scoring/score_functions/EnvPairPotential/cenpack_log.txt\n",
      "\u001b[0mcore.scoring.ramachandran: \u001b[0mshapovalov_lib::shap_rama_smooth_level of 4( aka highest_smooth ) got activated.\n",
      "\u001b[0mbasic.io.database: \u001b[0mDatabase file opened: scoring/score_functions/rama/shapovalov/kappa25/all.ramaProb\n",
      "\u001b[0mprotocols.filters.AtomicDistanceFilter: \u001b[0mAtomicDistance filter between Residue 11  chain A atom type Nlys and Residue 34  chain A atom type OOC with distance cutoff of 3\n",
      "\u001b[0mprotocols.rosetta_scripts.RosettaScriptsParser: \u001b[0mDefined filter named \"salt_bridge\" of type AtomicDistance\n",
      "\u001b[0mprotocols.rosetta_scripts.ParsedProtocol: \u001b[0mParsedProtocol mover with the following movers and filters\n",
      "\u001b[0mprotocols.rosetta_scripts.ParsedProtocol: \u001b[0madded mover \"NULL_MOVER\" with filter \"salt_bridge\"\n"
     ]
    }
   ],
   "source": [
    "xml = XmlObjects.create_from_string(filter_example)"
   ]
  },
  {
   "cell_type": "code",
   "execution_count": 4,
   "metadata": {},
   "outputs": [],
   "source": [
    "salt_bridge_filter = xml.get_filter(\"salt_bridge\")"
   ]
  },
  {
   "cell_type": "code",
   "execution_count": 5,
   "metadata": {},
   "outputs": [
    {
     "name": "stdout",
     "output_type": "stream",
     "text": [
      "\u001b[0mcore.import_pose.import_pose: \u001b[0mFile './data/1ubq_clean.pdb' automatically determined to be of type PDB\n",
      "PDB file name: ./data/1ubq_clean.pdb\n",
      "Total residues: 76\n",
      "Sequence: MQIFVKTLTGKTITLEVEPSDTIENVKAKIQDKEGIPPDQQRLIFAGKQLEDGRTLSDYNIQKESTLHLVLRLRGG\n",
      "Fold tree:\n",
      "FOLD_TREE  EDGE 1 76 -1 \n"
     ]
    }
   ],
   "source": [
    "original_pose = pose_from_pdb(\"./data/1ubq_clean.pdb\")\n",
    "\n",
    "pose = original_pose.clone()\n",
    "\n",
    "print(pose)"
   ]
  },
  {
   "cell_type": "code",
   "execution_count": 6,
   "metadata": {},
   "outputs": [
    {
     "name": "stdout",
     "output_type": "stream",
     "text": [
      "3.3466357734297865\n"
     ]
    }
   ],
   "source": [
    "# 使用当前filter对pose进行计算，即计算两个原子之间的距离\n",
    "print(salt_bridge_filter.compute(pose))"
   ]
  },
  {
   "cell_type": "code",
   "execution_count": 7,
   "metadata": {},
   "outputs": [
    {
     "data": {
      "text/plain": [
       "False"
      ]
     },
     "execution_count": 7,
     "metadata": {},
     "output_type": "execute_result"
    }
   ],
   "source": [
    "# 使用filter判断当前pose是否通过，通过为True，任务继续进行，否则为False，任务终止\n",
    "salt_bridge_filter.apply(pose)"
   ]
  },
  {
   "cell_type": "code",
   "execution_count": 9,
   "metadata": {},
   "outputs": [
    {
     "name": "stdout",
     "output_type": "stream",
     "text": [
      "\u001b[0mcore.pack.task: \u001b[0mPacker task: initialize from command line()\n",
      "\u001b[0mbasic.io.database: \u001b[0mDatabase file opened: scoring/score_functions/elec_cp_reps.dat\n",
      "\u001b[0mcore.scoring.elec.util: \u001b[0mRead 40 countpair representative atoms\n",
      "\u001b[0mcore.pack.dunbrack.RotamerLibrary: \u001b[0mshapovalov_lib_fixes_enable option is true.\n",
      "\u001b[0mcore.pack.dunbrack.RotamerLibrary: \u001b[0mshapovalov_lib::shap_dun10_smooth_level of 1( aka lowest_smooth ) got activated.\n",
      "\u001b[0mcore.pack.dunbrack.RotamerLibrary: \u001b[0mBinary rotamer library selected: /home/huangjian/miniconda3/envs/biodesign/lib/python3.6/site-packages/pyrosetta-2020.28+release.8ecab77aa50-py3.6-linux-x86_64.egg/pyrosetta/database/rotamer/shapovalov/StpDwn_0-0-0/Dunbrack10.lib.bin\n",
      "\u001b[0mcore.pack.dunbrack.RotamerLibrary: \u001b[0mUsing Dunbrack library binary file '/home/huangjian/miniconda3/envs/biodesign/lib/python3.6/site-packages/pyrosetta-2020.28+release.8ecab77aa50-py3.6-linux-x86_64.egg/pyrosetta/database/rotamer/shapovalov/StpDwn_0-0-0/Dunbrack10.lib.bin'.\n",
      "\u001b[0mcore.pack.dunbrack.RotamerLibrary: \u001b[0mDunbrack 2010 library took 0.21875 seconds to load from binary\n",
      "\u001b[0mcore.pack.pack_rotamers: \u001b[0mbuilt 1518 rotamers at 76 positions.\n",
      "\u001b[0mcore.pack.interaction_graph.interaction_graph_factory: \u001b[0mInstantiating DensePDInteractionGraph\n",
      "\u001b[0mcore.scoring.ScoreFunctionFactory: \u001b[0mSCOREFUNCTION: \u001b[32mref2015\u001b[0m\n"
     ]
    }
   ],
   "source": [
    "# 我们尝试使用pack和minimization的操作，看看是否能通过该filter？\n",
    "from rosetta.protocols import minimization_packing as pack_min\n",
    "from rosetta.core.pack.task import TaskFactory, operation\n",
    "\n",
    "scorefxn = create_score_function( \"ref2015\" )\n",
    "tf = TaskFactory()\n",
    "packer = pack_min.PackRotamersMover()\n",
    "packer.score_function(scorefxn)\n",
    "# InitializeFromCommandline会调用初始init（）中的选项\n",
    "tf.push_back(operation.InitializeFromCommandline())\n",
    "# RestrictToRepacking可以限制不允许进行design\n",
    "tf.push_back(operation.RestrictToRepacking())\n",
    "packer.task_factory(tf)\n",
    "\n",
    "minimizer = pack_min.MinMover()\n",
    "packer.apply(pose)\n",
    "minimizer.apply(pose)"
   ]
  },
  {
   "cell_type": "code",
   "execution_count": 10,
   "metadata": {},
   "outputs": [
    {
     "data": {
      "text/plain": [
       "True"
      ]
     },
     "execution_count": 10,
     "metadata": {},
     "output_type": "execute_result"
    }
   ],
   "source": [
    "# 可以看到rosetta优化后的构象符合filter的条件\n",
    "salt_bridge_filter.apply(pose)"
   ]
  },
  {
   "cell_type": "code",
   "execution_count": 12,
   "metadata": {},
   "outputs": [
    {
     "data": {
      "text/plain": [
       "2.364011411146144"
      ]
     },
     "execution_count": 12,
     "metadata": {},
     "output_type": "execute_result"
    }
   ],
   "source": [
    "# 打印具体的计算数值\n",
    "salt_bridge_filter.score(pose)"
   ]
  },
  {
   "cell_type": "code",
   "execution_count": null,
   "metadata": {},
   "outputs": [],
   "source": []
  }
 ],
 "metadata": {
  "kernelspec": {
   "display_name": "Python 3",
   "language": "python",
   "name": "python3"
  },
  "language_info": {
   "codemirror_mode": {
    "name": "ipython",
    "version": 3
   },
   "file_extension": ".py",
   "mimetype": "text/x-python",
   "name": "python",
   "nbconvert_exporter": "python",
   "pygments_lexer": "ipython3",
   "version": "3.6.10"
  }
 },
 "nbformat": 4,
 "nbformat_minor": 4
}
